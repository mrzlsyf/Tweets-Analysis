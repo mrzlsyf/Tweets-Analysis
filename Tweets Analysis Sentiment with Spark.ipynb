{
 "cells": [
  {
   "cell_type": "markdown",
   "metadata": {
    "id": "FRso0irBGkeN"
   },
   "source": [
    "# **Import Library**"
   ]
  },
  {
   "cell_type": "code",
   "execution_count": null,
   "metadata": {
    "id": "iSd-0cJmGjW9"
   },
   "outputs": [],
   "source": [
    "import pandas as pd\n",
    "\n",
    "from pyspark.sql.types import *\n",
    "from pyspark.sql.functions import *\n",
    "from pyspark.sql import SparkSession\n",
    "from pyspark.ml.classification import LogisticRegression\n",
    "from pyspark.ml.feature import HashingTF, Tokenizer, StopWordsRemover"
   ]
  },
  {
   "cell_type": "markdown",
   "metadata": {
    "id": "LDaXmFC9HvI0"
   },
   "source": [
    "# **Creating Spark Application**"
   ]
  },
  {
   "cell_type": "code",
   "execution_count": null,
   "metadata": {
    "id": "49ZxnbSFHr_d"
   },
   "outputs": [],
   "source": [
    "spark = SparkSession \\\n",
    "  .builder \\\n",
    "  .appName(\"Sentimen Analisis di Spark\")  \\\n",
    "  .config(\"spark.some.config.option\",\"some-value\") \\\n",
    "  .getOrCreate()"
   ]
  },
  {
   "cell_type": "code",
   "execution_count": null,
   "metadata": {
    "colab": {
     "base_uri": "https://localhost:8080/",
     "height": 219
    },
    "id": "6_UH80TXH6nE",
    "outputId": "e929e890-78cd-4ab3-b3a3-e5132a99fb08"
   },
   "outputs": [
    {
     "data": {
      "text/html": [
       "\n",
       "            <div>\n",
       "                <p><b>SparkSession - in-memory</b></p>\n",
       "                \n",
       "        <div>\n",
       "            <p><b>SparkContext</b></p>\n",
       "\n",
       "            <p><a href=\"http://494510d7aeac:4040\">Spark UI</a></p>\n",
       "\n",
       "            <dl>\n",
       "              <dt>Version</dt>\n",
       "                <dd><code>v3.5.0</code></dd>\n",
       "              <dt>Master</dt>\n",
       "                <dd><code>local[*]</code></dd>\n",
       "              <dt>AppName</dt>\n",
       "                <dd><code>Sentimen Analisis di Spark</code></dd>\n",
       "            </dl>\n",
       "        </div>\n",
       "        \n",
       "            </div>\n",
       "        "
      ],
      "text/plain": [
       "<pyspark.sql.session.SparkSession at 0x7dd2cf3e0f40>"
      ]
     },
     "execution_count": 5,
     "metadata": {},
     "output_type": "execute_result"
    }
   ],
   "source": [
    "spark"
   ]
  },
  {
   "cell_type": "markdown",
   "metadata": {
    "id": "mRo9zGhFHjBE"
   },
   "source": [
    "# **Read Dataset**"
   ]
  },
  {
   "cell_type": "code",
   "execution_count": null,
   "metadata": {
    "colab": {
     "base_uri": "https://localhost:8080/"
    },
    "id": "7ySTxBpvHMhl",
    "outputId": "fc5d4e65-7c04-4f62-9832-1e09a3599dd9"
   },
   "outputs": [
    {
     "name": "stdout",
     "output_type": "stream",
     "text": [
      "+------+---------+---------------+-----------------------------------------------------------+\n",
      "|ItemID|Sentiment|SentimentSource|SentimentText                                              |\n",
      "+------+---------+---------------+-----------------------------------------------------------+\n",
      "|1038  |1        |Sentiment140   |that film is fantastic #brilliant                          |\n",
      "|1804  |0        |Sentiment140   |this music is really bad #myband                           |\n",
      "|1693  |0        |Sentiment140   |winter is terrible #thumbs-down                            |\n",
      "|1477  |0        |Sentiment140   |this game is awful #nightmare                              |\n",
      "|45    |1        |Sentiment140   |I love jam #loveit                                         |\n",
      "|246   |0        |Sentiment140   |I dislike skiing #rubbish                                  |\n",
      "|776   |1        |Sentiment140   |I like pop music #toptastic                                |\n",
      "|1666  |1        |Sentiment140   |this game is awful good                                    |\n",
      "|1237  |0        |Sentiment140   |rock music is terrible #worstever                          |\n",
      "|1386  |1        |Sentiment140   |that movie is great #favorite                              |\n",
      "|695   |0        |Sentiment140   |I hate this game #fail                                     |\n",
      "|649   |0        |Sentiment140   |I dislike this game #thumbs-down                           |\n",
      "|1565  |1        |Sentiment140   |that movie is great #thumbs-up                             |\n",
      "|150   |1        |Sentiment140   |I like tea #brilliant                                      |\n",
      "|1500  |1        |Sentiment140   |this game is terrible for fans of the other team #nightmare|\n",
      "|1781  |0        |Sentiment140   |this game is terrible #fail                                |\n",
      "|884   |1        |Sentiment140   |this game is brilliant #loveit                             |\n",
      "|1793  |0        |Sentiment140   |jam is terrible #fail                                      |\n",
      "|1782  |0        |Sentiment140   |coffee is terrible #fail                                   |\n",
      "|921   |0        |Sentiment140   |that movie is awful #hateit                                |\n",
      "|1641  |1        |Sentiment140   |that film is the best #thumbs-up                           |\n",
      "|1747  |0        |Sentiment140   |jam is rubbish #thumbs-down                                |\n",
      "|434   |1        |Sentiment140   |I like this band #favorite                                 |\n",
      "|1473  |0        |Sentiment140   |that movie is awful #nightmare                             |\n",
      "|1031  |0        |Sentiment140   |classical music is great #not!                             |\n",
      "|211   |0        |Sentiment140   |I hate this team #rubbish                                  |\n",
      "|1071  |1        |Sentiment140   |summer is brilliant #brilliant                             |\n",
      "|1437  |1        |Sentiment140   |coffee is brilliant #favorite                              |\n",
      "|264   |0        |Sentiment140   |I loathe coffee #rubbish                                   |\n",
      "|1337  |1        |Sentiment140   |that film is brilliant #bestever                           |\n",
      "|1325  |1        |Sentiment140   |winter is fantastic #bestever                              |\n",
      "|1587  |1        |Sentiment140   |cheese is great #thumbs-up                                 |\n",
      "|1215  |0        |Sentiment140   |classical music is awful #worstever                        |\n",
      "|272   |0        |Sentiment140   |I loathe classical music #rubbish                          |\n",
      "|1586  |1        |Sentiment140   |jam is great #thumbs-up                                    |\n",
      "|1907  |1        |Sentiment140   |that band is brilliant #toptastic                          |\n",
      "|1490  |0        |Sentiment140   |rock music is awful #nightmare                             |\n",
      "|1378  |1        |Sentiment140   |that band is the best #bestever                            |\n",
      "|1553  |0        |Sentiment140   |tea is rubbish #nightmare                                  |\n",
      "|1575  |1        |Sentiment140   |coffee is great #thumbs-up                                 |\n",
      "|1801  |1        |Sentiment140   |this book is really bad #fail                              |\n",
      "|118   |0        |Sentiment140   |I loathe that film #hateit                                 |\n",
      "|1395  |1        |Sentiment140   |the holidays is great #favorite                            |\n",
      "|15    |1        |Sentiment140   |I like the holidays #loveit                                |\n",
      "|1434  |1        |Sentiment140   |that film is brilliant #favorite                           |\n",
      "|19    |0        |Sentiment140   |I like classical music #loveit                             |\n",
      "|380   |1        |Sentiment140   |I love tea #bestever                                       |\n",
      "|1184  |0        |Sentiment140   |coffee is rubbish #rubbish                                 |\n",
      "|1035  |0        |Sentiment140   |cheese is great #brilliant                                 |\n",
      "|248   |0        |Sentiment140   |I dislike rock music #rubbish                              |\n",
      "+------+---------+---------------+-----------------------------------------------------------+\n",
      "only showing top 50 rows\n",
      "\n"
     ]
    }
   ],
   "source": [
    "sentimen = spark.read.csv('tweets.csv',\n",
    "                          header=True,\n",
    "                          inferSchema=True\n",
    "                          )\n",
    "\n",
    "sentimen.show(truncate=False, n=50)"
   ]
  },
  {
   "cell_type": "code",
   "execution_count": null,
   "metadata": {
    "colab": {
     "base_uri": "https://localhost:8080/"
    },
    "id": "EMG5ECW4IuuV",
    "outputId": "ccb038e9-9643-477b-c3ee-f89ffd4383bf"
   },
   "outputs": [
    {
     "name": "stdout",
     "output_type": "stream",
     "text": [
      "+---------------------------------+-----+\n",
      "|SentimentText                    |label|\n",
      "+---------------------------------+-----+\n",
      "|that film is fantastic #brilliant|1    |\n",
      "|this music is really bad #myband |0    |\n",
      "|winter is terrible #thumbs-down  |0    |\n",
      "|this game is awful #nightmare    |0    |\n",
      "|I love jam #loveit               |1    |\n",
      "+---------------------------------+-----+\n",
      "only showing top 5 rows\n",
      "\n"
     ]
    }
   ],
   "source": [
    "sentimen = sentimen.select('SentimentText', col('Sentiment').cast('Int').alias('label'))\n",
    "\n",
    "sentimen.show(truncate=False, n=5)"
   ]
  },
  {
   "cell_type": "markdown",
   "metadata": {
    "id": "ZIQK1QvpN8OK"
   },
   "source": [
    "# **Separating Training and Testing Data**"
   ]
  },
  {
   "cell_type": "code",
   "execution_count": null,
   "metadata": {
    "colab": {
     "base_uri": "https://localhost:8080/"
    },
    "id": "bmu8IUE6N66T",
    "outputId": "d66773cd-9fe2-4c70-b793-82e9ee95f71d"
   },
   "outputs": [
    {
     "name": "stdout",
     "output_type": "stream",
     "text": [
      "Jumlah Baris Data Training: 1372 dan Jumlah Baris Data Testing: 560\n"
     ]
    }
   ],
   "source": [
    "dataTerpisah = sentimen.randomSplit([0.7,0.3])\n",
    "train = dataTerpisah[0]\n",
    "\n",
    "# in the testing data, rename the label from \"label\" to \"trueLabel\"\n",
    "test = dataTerpisah[1].withColumnRenamed(\"label\",\"trueLabel\")\n",
    "train_rows = train.count()\n",
    "test_row = test.count()\n",
    "\n",
    "print(\"Jumlah Baris Data Training:\",train_rows,\"dan Jumlah Baris Data Testing:\",test_row)"
   ]
  },
  {
   "cell_type": "markdown",
   "metadata": {
    "id": "D5KEvRnKPKsy"
   },
   "source": [
    "# **Tokenizer**"
   ]
  },
  {
   "cell_type": "code",
   "execution_count": null,
   "metadata": {
    "colab": {
     "base_uri": "https://localhost:8080/"
    },
    "id": "_qkcnexdOs5R",
    "outputId": "ab1438dd-ebd3-42a6-ba4d-5b185c4ac92b"
   },
   "outputs": [
    {
     "name": "stdout",
     "output_type": "stream",
     "text": [
      "+----------------------------------+-----+----------------------------------------+\n",
      "|SentimentText                     |label|SentimentWords                          |\n",
      "+----------------------------------+-----+----------------------------------------+\n",
      "|I adore cheese #bestever          |1    |[i, adore, cheese, #bestever]           |\n",
      "|I adore cheese #brilliant         |1    |[i, adore, cheese, #brilliant]          |\n",
      "|I adore cheese #favorite          |1    |[i, adore, cheese, #favorite]           |\n",
      "|I adore cheese #loveit            |1    |[i, adore, cheese, #loveit]             |\n",
      "|I adore cheese #thumbs-up         |1    |[i, adore, cheese, #thumbs-up]          |\n",
      "|I adore classical music #favorite |1    |[i, adore, classical, music, #favorite] |\n",
      "|I adore classical music #thumbs-up|1    |[i, adore, classical, music, #thumbs-up]|\n",
      "|I adore classical music #toptastic|1    |[i, adore, classical, music, #toptastic]|\n",
      "|I adore coffee #bestever          |1    |[i, adore, coffee, #bestever]           |\n",
      "|I adore coffee #favorite          |1    |[i, adore, coffee, #favorite]           |\n",
      "+----------------------------------+-----+----------------------------------------+\n",
      "only showing top 10 rows\n",
      "\n"
     ]
    }
   ],
   "source": [
    "tokenizer = Tokenizer(inputCol='SentimentText', outputCol='SentimentWords')\n",
    "\n",
    "tokenizedTrain = tokenizer.transform(train)\n",
    "\n",
    "tokenizedTrain.show(truncate=False, n=10)"
   ]
  },
  {
   "cell_type": "markdown",
   "metadata": {
    "id": "DkpnXghQRGX5"
   },
   "source": [
    "# **Removing Unimportant Words**"
   ]
  },
  {
   "cell_type": "code",
   "execution_count": null,
   "metadata": {
    "colab": {
     "base_uri": "https://localhost:8080/"
    },
    "id": "Yqer9krGRDmZ",
    "outputId": "554eb781-e36a-46d1-d8dd-69cf317703bb"
   },
   "outputs": [
    {
     "name": "stdout",
     "output_type": "stream",
     "text": [
      "+-------------------------+-----+------------------------------+---------------------------+\n",
      "|SentimentText            |label|SentimentWords                |MeaningfulWords            |\n",
      "+-------------------------+-----+------------------------------+---------------------------+\n",
      "|I adore cheese #bestever |1    |[i, adore, cheese, #bestever] |[adore, cheese, #bestever] |\n",
      "|I adore cheese #brilliant|1    |[i, adore, cheese, #brilliant]|[adore, cheese, #brilliant]|\n",
      "|I adore cheese #favorite |1    |[i, adore, cheese, #favorite] |[adore, cheese, #favorite] |\n",
      "|I adore cheese #loveit   |1    |[i, adore, cheese, #loveit]   |[adore, cheese, #loveit]   |\n",
      "|I adore cheese #thumbs-up|1    |[i, adore, cheese, #thumbs-up]|[adore, cheese, #thumbs-up]|\n",
      "+-------------------------+-----+------------------------------+---------------------------+\n",
      "only showing top 5 rows\n",
      "\n"
     ]
    }
   ],
   "source": [
    "swr = StopWordsRemover(inputCol=tokenizer.getOutputCol(),\n",
    "                       outputCol='MeaningfulWords')\n",
    "\n",
    "SwRemovedTrain = swr.transform(tokenizedTrain)\n",
    "\n",
    "SwRemovedTrain.show(truncate=False, n=5)"
   ]
  },
  {
   "cell_type": "markdown",
   "metadata": {
    "id": "d37mn5QTRxoZ"
   },
   "source": [
    "# **Vectorization**"
   ]
  },
  {
   "cell_type": "code",
   "execution_count": null,
   "metadata": {
    "colab": {
     "base_uri": "https://localhost:8080/"
    },
    "id": "j0yloLd2RsAy",
    "outputId": "6e95d87c-1ee5-4737-da26-197cd8544495"
   },
   "outputs": [
    {
     "name": "stdout",
     "output_type": "stream",
     "text": [
      "+-----+---------------------------+-------------------------------------------+\n",
      "|label|MeaningfulWords            |features                                   |\n",
      "+-----+---------------------------+-------------------------------------------+\n",
      "|1    |[adore, cheese, #bestever] |(262144,[1689,91011,100089],[1.0,1.0,1.0]) |\n",
      "|1    |[adore, cheese, #brilliant]|(262144,[1689,45361,100089],[1.0,1.0,1.0]) |\n",
      "|1    |[adore, cheese, #favorite] |(262144,[1689,100089,108624],[1.0,1.0,1.0])|\n",
      "+-----+---------------------------+-------------------------------------------+\n",
      "only showing top 3 rows\n",
      "\n"
     ]
    }
   ],
   "source": [
    "hashTF = HashingTF(inputCol=swr.getOutputCol(), outputCol='features')\n",
    "\n",
    "numericTrain = hashTF.transform(SwRemovedTrain).select('label','MeaningfulWords','features')\n",
    "\n",
    "numericTrain.show(truncate=False, n=3)"
   ]
  },
  {
   "cell_type": "markdown",
   "metadata": {
    "id": "8f5P7cK9T-l4"
   },
   "source": [
    "# **Training**"
   ]
  },
  {
   "cell_type": "code",
   "execution_count": null,
   "metadata": {
    "colab": {
     "base_uri": "https://localhost:8080/"
    },
    "id": "wkvf5nE2T5b4",
    "outputId": "c4a9ae5d-1647-4a1f-b6a9-3e7b48fc7030"
   },
   "outputs": [
    {
     "name": "stdout",
     "output_type": "stream",
     "text": [
      "Training Selesai!\n"
     ]
    }
   ],
   "source": [
    "lr = LogisticRegression(labelCol='label', featuresCol='features',\n",
    "                        maxIter=10, regParam=0.01)\n",
    "\n",
    "model = lr.fit(numericTrain)\n",
    "\n",
    "print('Training Selesai!')"
   ]
  },
  {
   "cell_type": "markdown",
   "metadata": {
    "id": "XdjnAhBlUoy-"
   },
   "source": [
    "# **Data Testing**"
   ]
  },
  {
   "cell_type": "code",
   "execution_count": null,
   "metadata": {
    "colab": {
     "base_uri": "https://localhost:8080/"
    },
    "id": "e3TfVqwfUgJO",
    "outputId": "8b379b3a-3353-4f50-c652-0398cfa7d210"
   },
   "outputs": [
    {
     "name": "stdout",
     "output_type": "stream",
     "text": [
      "+---------+-------------------------------------------+------------------------------------------------------------------+\n",
      "|trueLabel|MeaningfulWords                            |features                                                          |\n",
      "+---------+-------------------------------------------+------------------------------------------------------------------+\n",
      "|1        |[adore, cheese, #toptastic]                |(262144,[1689,42010,100089],[1.0,1.0,1.0])                        |\n",
      "|1        |[adore, classical, music, #bestever]       |(262144,[91011,100089,102383,131250],[1.0,1.0,1.0,1.0])           |\n",
      "|1        |[adore, classical, music, #brilliant]      |(262144,[45361,100089,102383,131250],[1.0,1.0,1.0,1.0])           |\n",
      "|1        |[adore, classical, music, #loveit]         |(262144,[100089,102383,131250,254974],[1.0,1.0,1.0,1.0])          |\n",
      "|1        |[adore, coffee, #brilliant]                |(262144,[45361,100089,159212],[1.0,1.0,1.0])                      |\n",
      "|1        |[adore, coffee, #toptastic]                |(262144,[42010,100089,159212],[1.0,1.0,1.0])                      |\n",
      "|1        |[adore, jam, #brilliant]                   |(262144,[45361,100089,164887],[1.0,1.0,1.0])                      |\n",
      "|1        |[adore, jam, #favorite]                    |(262144,[100089,108624,164887],[1.0,1.0,1.0])                     |\n",
      "|1        |[adore, pop, music, #bestever]             |(262144,[76027,91011,100089,131250],[1.0,1.0,1.0,1.0])            |\n",
      "|1        |[adore, pop, music, #loveit]               |(262144,[76027,100089,131250,254974],[1.0,1.0,1.0,1.0])           |\n",
      "|1        |[adore, rock, music, #bestever]            |(262144,[9886,91011,100089,131250],[1.0,1.0,1.0,1.0])             |\n",
      "|1        |[adore, skiing, #brilliant]                |(262144,[45361,100089,173426],[1.0,1.0,1.0])                      |\n",
      "|1        |[adore, skiing, #favorite]                 |(262144,[100089,108624,173426],[1.0,1.0,1.0])                     |\n",
      "|1        |[adore, skiing, #loveit]                   |(262144,[100089,173426,254974],[1.0,1.0,1.0])                     |\n",
      "|1        |[adore, summer, #loveit]                   |(262144,[100089,167401,254974],[1.0,1.0,1.0])                     |\n",
      "|1        |[adore, tea, #favorite]                    |(262144,[36797,100089,108624],[1.0,1.0,1.0])                      |\n",
      "|1        |[adore, tea, #toptastic]                   |(262144,[36797,42010,100089],[1.0,1.0,1.0])                       |\n",
      "|1        |[adore, film, #brilliant]                  |(262144,[17291,45361,100089],[1.0,1.0,1.0])                       |\n",
      "|1        |[adore, film, #loveit]                     |(262144,[17291,100089,254974],[1.0,1.0,1.0])                      |\n",
      "|1        |[adore, movie, #favorite]                  |(262144,[100089,108624,210223],[1.0,1.0,1.0])                     |\n",
      "|1        |[adore, holidays, #loveit]                 |(262144,[100089,236905,254974],[1.0,1.0,1.0])                     |\n",
      "|1        |[adore, book, #favorite]                   |(262144,[100089,108624,189113],[1.0,1.0,1.0])                     |\n",
      "|1        |[adore, game, #thumbs-up]                  |(262144,[88825,100089,138895],[1.0,1.0,1.0])                      |\n",
      "|1        |[adore, team, #bestever]                   |(262144,[91011,100089,235700],[1.0,1.0,1.0])                      |\n",
      "|1        |[adore, team, #loveit]                     |(262144,[100089,235700,254974],[1.0,1.0,1.0])                     |\n",
      "|1        |[adore, team, #toptastic]                  |(262144,[42010,100089,235700],[1.0,1.0,1.0])                      |\n",
      "|1        |[adore, winter, #bestever]                 |(262144,[89914,91011,100089],[1.0,1.0,1.0])                       |\n",
      "|1        |[adore, winter, #brilliant]                |(262144,[45361,89914,100089],[1.0,1.0,1.0])                       |\n",
      "|1        |[adore, winter, #loveit]                   |(262144,[89914,100089,254974],[1.0,1.0,1.0])                      |\n",
      "|0        |[dislike, cheese, #rubbish]                |(262144,[1689,208609,222651],[1.0,1.0,1.0])                       |\n",
      "|0        |[dislike, cheese, #worstever]              |(262144,[1689,131186,222651],[1.0,1.0,1.0])                       |\n",
      "|0        |[dislike, classical, music, #rubbish]      |(262144,[102383,131250,208609,222651],[1.0,1.0,1.0,1.0])          |\n",
      "|0        |[dislike, coffee, #nightmare]              |(262144,[85893,159212,222651],[1.0,1.0,1.0])                      |\n",
      "|0        |[dislike, coffee, #thumbs-down]            |(262144,[159212,222651,233174],[1.0,1.0,1.0])                     |\n",
      "|0        |[dislike, pop, music, #fail]               |(262144,[76027,131250,222651,244924],[1.0,1.0,1.0,1.0])           |\n",
      "|0        |[dislike, pop, music, #rubbish]            |(262144,[76027,131250,208609,222651],[1.0,1.0,1.0,1.0])           |\n",
      "|0        |[dislike, pop, music, #thumbs-down]        |(262144,[76027,131250,222651,233174],[1.0,1.0,1.0,1.0])           |\n",
      "|0        |[dislike, rock, music, #worstever]         |(262144,[9886,131186,131250,222651],[1.0,1.0,1.0,1.0])            |\n",
      "|0        |[dislike, skiing, #fail]                   |(262144,[173426,222651,244924],[1.0,1.0,1.0])                     |\n",
      "|0        |[dislike, summer, #fail]                   |(262144,[167401,222651,244924],[1.0,1.0,1.0])                     |\n",
      "|0        |[dislike, summer, #nightmare]              |(262144,[85893,167401,222651],[1.0,1.0,1.0])                      |\n",
      "|0        |[dislike, summer, #thumbs-down]            |(262144,[167401,222651,233174],[1.0,1.0,1.0])                     |\n",
      "|0        |[dislike, summer, #worstever]              |(262144,[131186,167401,222651],[1.0,1.0,1.0])                     |\n",
      "|0        |[dislike, tea, #fail]                      |(262144,[36797,222651,244924],[1.0,1.0,1.0])                      |\n",
      "|0        |[dislike, tea, #hateit]                    |(262144,[36797,60553,222651],[1.0,1.0,1.0])                       |\n",
      "|0        |[dislike, tea, #rubbish]                   |(262144,[36797,208609,222651],[1.0,1.0,1.0])                      |\n",
      "|0        |[dislike, holidays, #hateit]               |(262144,[60553,222651,236905],[1.0,1.0,1.0])                      |\n",
      "|0        |[dislike, holidays, #worstever]            |(262144,[131186,222651,236905],[1.0,1.0,1.0])                     |\n",
      "|0        |[dislike, band, #nightmare]                |(262144,[14118,85893,222651],[1.0,1.0,1.0])                       |\n",
      "|0        |[dislike, book, #worstever]                |(262144,[131186,189113,222651],[1.0,1.0,1.0])                     |\n",
      "|0        |[dislike, game, #fail]                     |(262144,[138895,222651,244924],[1.0,1.0,1.0])                     |\n",
      "|0        |[dislike, game, #rubbish]                  |(262144,[138895,208609,222651],[1.0,1.0,1.0])                     |\n",
      "|0        |[dislike, game, #thumbs-down]              |(262144,[138895,222651,233174],[1.0,1.0,1.0])                     |\n",
      "|0        |[dislike, game, #worstever]                |(262144,[131186,138895,222651],[1.0,1.0,1.0])                     |\n",
      "|0        |[dislike, team, #fail]                     |(262144,[222651,235700,244924],[1.0,1.0,1.0])                     |\n",
      "|0        |[dislike, team, #nightmare]                |(262144,[85893,222651,235700],[1.0,1.0,1.0])                      |\n",
      "|0        |[dislike, winter, #worstever]              |(262144,[89914,131186,222651],[1.0,1.0,1.0])                      |\n",
      "|0        |[like, game]                               |(262144,[138895,208258],[1.0,1.0])                                |\n",
      "|0        |[hate, cheese, #fail]                      |(262144,[1689,72709,244924],[1.0,1.0,1.0])                        |\n",
      "|0        |[hate, cheese, #nightmare]                 |(262144,[1689,72709,85893],[1.0,1.0,1.0])                         |\n",
      "|0        |[hate, cheese, #thumbs-down]               |(262144,[1689,72709,233174],[1.0,1.0,1.0])                        |\n",
      "|0        |[hate, classical, music, #worstever]       |(262144,[72709,102383,131186,131250],[1.0,1.0,1.0,1.0])           |\n",
      "|0        |[hate, coffee, #rubbish]                   |(262144,[72709,159212,208609],[1.0,1.0,1.0])                      |\n",
      "|0        |[hate, coffee, #thumbs-down]               |(262144,[72709,159212,233174],[1.0,1.0,1.0])                      |\n",
      "|0        |[hate, jam, #hateit]                       |(262144,[60553,72709,164887],[1.0,1.0,1.0])                       |\n",
      "|0        |[hate, jam, #rubbish]                      |(262144,[72709,164887,208609],[1.0,1.0,1.0])                      |\n",
      "|0        |[hate, pop, music, #rubbish]               |(262144,[72709,76027,131250,208609],[1.0,1.0,1.0,1.0])            |\n",
      "|0        |[hate, rock, music, #rubbish]              |(262144,[9886,72709,131250,208609],[1.0,1.0,1.0,1.0])             |\n",
      "|0        |[hate, summer, #worstever]                 |(262144,[72709,131186,167401],[1.0,1.0,1.0])                      |\n",
      "|0        |[hate, tea, #rubbish]                      |(262144,[36797,72709,208609],[1.0,1.0,1.0])                       |\n",
      "|0        |[hate, band, #worstever]                   |(262144,[14118,72709,131186],[1.0,1.0,1.0])                       |\n",
      "|0        |[hate, movie, #rubbish]                    |(262144,[72709,208609,210223],[1.0,1.0,1.0])                      |\n",
      "|0        |[hate, movie, #worstever]                  |(262144,[72709,131186,210223],[1.0,1.0,1.0])                      |\n",
      "|0        |[hate, holidays, #fail]                    |(262144,[72709,236905,244924],[1.0,1.0,1.0])                      |\n",
      "|0        |[hate, holidays, #thumbs-down]             |(262144,[72709,233174,236905],[1.0,1.0,1.0])                      |\n",
      "|0        |[hate, band, #nightmare]                   |(262144,[14118,72709,85893],[1.0,1.0,1.0])                        |\n",
      "|0        |[hate, band, #rubbish]                     |(262144,[14118,72709,208609],[1.0,1.0,1.0])                       |\n",
      "|0        |[hate, book, #fail]                        |(262144,[72709,189113,244924],[1.0,1.0,1.0])                      |\n",
      "|0        |[hate, book, #hateit]                      |(262144,[60553,72709,189113],[1.0,1.0,1.0])                       |\n",
      "|0        |[hate, game, #thumbs-down]                 |(262144,[72709,138895,233174],[1.0,1.0,1.0])                      |\n",
      "|0        |[hate, game, #worstever]                   |(262144,[72709,131186,138895],[1.0,1.0,1.0])                      |\n",
      "|0        |[hate, team, #nightmare]                   |(262144,[72709,85893,235700],[1.0,1.0,1.0])                       |\n",
      "|0        |[hate, team, #thumbs-down]                 |(262144,[72709,233174,235700],[1.0,1.0,1.0])                      |\n",
      "|0        |[hate, team, #worstever]                   |(262144,[72709,131186,235700],[1.0,1.0,1.0])                      |\n",
      "|0        |[hate, winter, #fail]                      |(262144,[72709,89914,244924],[1.0,1.0,1.0])                       |\n",
      "|1        |[like, cheese, #bestever]                  |(262144,[1689,91011,208258],[1.0,1.0,1.0])                        |\n",
      "|1        |[like, cheese, #favorite]                  |(262144,[1689,108624,208258],[1.0,1.0,1.0])                       |\n",
      "|1        |[like, cheese, #thumbs-up]                 |(262144,[1689,88825,208258],[1.0,1.0,1.0])                        |\n",
      "|1        |[like, classical, music, #bestever]        |(262144,[91011,102383,131250,208258],[1.0,1.0,1.0,1.0])           |\n",
      "|1        |[like, classical, music, #thumbs-up]       |(262144,[88825,102383,131250,208258],[1.0,1.0,1.0,1.0])           |\n",
      "|1        |[like, jam, #brilliant]                    |(262144,[45361,164887,208258],[1.0,1.0,1.0])                      |\n",
      "|1        |[like, jam, #favorite]                     |(262144,[108624,164887,208258],[1.0,1.0,1.0])                     |\n",
      "|1        |[like, jam, #loveit]                       |(262144,[164887,208258,254974],[1.0,1.0,1.0])                     |\n",
      "|1        |[like, pop, music, #favorite]              |(262144,[76027,108624,131250,208258],[1.0,1.0,1.0,1.0])           |\n",
      "|1        |[like, pop, music, #thumbs-up]             |(262144,[76027,88825,131250,208258],[1.0,1.0,1.0,1.0])            |\n",
      "|1        |[like, rock, music, #bestever]             |(262144,[9886,91011,131250,208258],[1.0,1.0,1.0,1.0])             |\n",
      "|1        |[like, skiing, #favorite]                  |(262144,[108624,173426,208258],[1.0,1.0,1.0])                     |\n",
      "|1        |[like, summer, #bestever]                  |(262144,[91011,167401,208258],[1.0,1.0,1.0])                      |\n",
      "|1        |[like, summer, #thumbs-up]                 |(262144,[88825,167401,208258],[1.0,1.0,1.0])                      |\n",
      "|1        |[like, summer, #toptastic]                 |(262144,[42010,167401,208258],[1.0,1.0,1.0])                      |\n",
      "|1        |[like, tea, #bestever]                     |(262144,[36797,91011,208258],[1.0,1.0,1.0])                       |\n",
      "|1        |[like, tea, #loveit]                       |(262144,[36797,208258,254974],[1.0,1.0,1.0])                      |\n",
      "|1        |[like, tea, #toptastic]                    |(262144,[36797,42010,208258],[1.0,1.0,1.0])                       |\n",
      "|1        |[like, film, #bestever]                    |(262144,[17291,91011,208258],[1.0,1.0,1.0])                       |\n",
      "|1        |[like, film, #favorite]                    |(262144,[17291,108624,208258],[1.0,1.0,1.0])                      |\n",
      "|1        |[like, movie, #brilliant]                  |(262144,[45361,208258,210223],[1.0,1.0,1.0])                      |\n",
      "|1        |[like, movie, #loveit]                     |(262144,[208258,210223,254974],[1.0,1.0,1.0])                     |\n",
      "|1        |[like, holidays, #bestever]                |(262144,[91011,208258,236905],[1.0,1.0,1.0])                      |\n",
      "|1        |[like, holidays, #loveit]                  |(262144,[208258,236905,254974],[1.0,1.0,1.0])                     |\n",
      "|1        |[like, holidays, #thumbs-up]               |(262144,[88825,208258,236905],[1.0,1.0,1.0])                      |\n",
      "|1        |[like, band, #bestever]                    |(262144,[14118,91011,208258],[1.0,1.0,1.0])                       |\n",
      "|1        |[like, book, #brilliant]                   |(262144,[45361,189113,208258],[1.0,1.0,1.0])                      |\n",
      "|1        |[like, book, #toptastic]                   |(262144,[42010,189113,208258],[1.0,1.0,1.0])                      |\n",
      "|1        |[like, team, #bestever]                    |(262144,[91011,208258,235700],[1.0,1.0,1.0])                      |\n",
      "|1        |[like, team, #favorite]                    |(262144,[108624,208258,235700],[1.0,1.0,1.0])                     |\n",
      "|1        |[like, team, #loveit]                      |(262144,[208258,235700,254974],[1.0,1.0,1.0])                     |\n",
      "|1        |[like, winter, #toptastic]                 |(262144,[42010,89914,208258],[1.0,1.0,1.0])                       |\n",
      "|0        |[loathe, cheese, #rubbish]                 |(262144,[1689,147127,208609],[1.0,1.0,1.0])                       |\n",
      "|0        |[loathe, coffee, #hateit]                  |(262144,[60553,147127,159212],[1.0,1.0,1.0])                      |\n",
      "|0        |[loathe, coffee, #thumbs-down]             |(262144,[147127,159212,233174],[1.0,1.0,1.0])                     |\n",
      "|0        |[loathe, coffee, #worstever]               |(262144,[131186,147127,159212],[1.0,1.0,1.0])                     |\n",
      "|0        |[loathe, jam, #rubbish]                    |(262144,[147127,164887,208609],[1.0,1.0,1.0])                     |\n",
      "|0        |[loathe, jam, #thumbs-down]                |(262144,[147127,164887,233174],[1.0,1.0,1.0])                     |\n",
      "|0        |[loathe, pop, music, #thumbs-down]         |(262144,[76027,131250,147127,233174],[1.0,1.0,1.0,1.0])           |\n",
      "|0        |[loathe, pop, music, #worstever]           |(262144,[76027,131186,131250,147127],[1.0,1.0,1.0,1.0])           |\n",
      "|0        |[loathe, rock, music, #fail]               |(262144,[9886,131250,147127,244924],[1.0,1.0,1.0,1.0])            |\n",
      "|0        |[loathe, rock, music, #hateit]             |(262144,[9886,60553,131250,147127],[1.0,1.0,1.0,1.0])             |\n",
      "|0        |[loathe, skiing, #nightmare]               |(262144,[85893,147127,173426],[1.0,1.0,1.0])                      |\n",
      "|0        |[loathe, skiing, #thumbs-down]             |(262144,[147127,173426,233174],[1.0,1.0,1.0])                     |\n",
      "|0        |[loathe, summer, #rubbish]                 |(262144,[147127,167401,208609],[1.0,1.0,1.0])                     |\n",
      "|0        |[loathe, summer, #thumbs-down]             |(262144,[147127,167401,233174],[1.0,1.0,1.0])                     |\n",
      "|0        |[loathe, tea, #nightmare]                  |(262144,[36797,85893,147127],[1.0,1.0,1.0])                       |\n",
      "|0        |[loathe, tea, #rubbish]                    |(262144,[36797,147127,208609],[1.0,1.0,1.0])                      |\n",
      "|0        |[loathe, band, #fail]                      |(262144,[14118,147127,244924],[1.0,1.0,1.0])                      |\n",
      "|0        |[loathe, film, #hateit]                    |(262144,[17291,60553,147127],[1.0,1.0,1.0])                       |\n",
      "|0        |[loathe, film, #thumbs-down]               |(262144,[17291,147127,233174],[1.0,1.0,1.0])                      |\n",
      "|0        |[loathe, movie, #thumbs-down]              |(262144,[147127,210223,233174],[1.0,1.0,1.0])                     |\n",
      "|0        |[loathe, movie, #worstever]                |(262144,[131186,147127,210223],[1.0,1.0,1.0])                     |\n",
      "|0        |[loathe, holidays, #rubbish]               |(262144,[147127,208609,236905],[1.0,1.0,1.0])                     |\n",
      "|0        |[loathe, band, #worstever]                 |(262144,[14118,131186,147127],[1.0,1.0,1.0])                      |\n",
      "|0        |[loathe, book, #fail]                      |(262144,[147127,189113,244924],[1.0,1.0,1.0])                     |\n",
      "|0        |[loathe, book, #hateit]                    |(262144,[60553,147127,189113],[1.0,1.0,1.0])                      |\n",
      "|0        |[loathe, book, #nightmare]                 |(262144,[85893,147127,189113],[1.0,1.0,1.0])                      |\n",
      "|0        |[loathe, book, #rubbish]                   |(262144,[147127,189113,208609],[1.0,1.0,1.0])                     |\n",
      "|0        |[loathe, book, #thumbs-down]               |(262144,[147127,189113,233174],[1.0,1.0,1.0])                     |\n",
      "|0        |[loathe, book, #worstever]                 |(262144,[131186,147127,189113],[1.0,1.0,1.0])                     |\n",
      "|0        |[loathe, game, #hateit]                    |(262144,[60553,138895,147127],[1.0,1.0,1.0])                      |\n",
      "|0        |[loathe, game, #nightmare]                 |(262144,[85893,138895,147127],[1.0,1.0,1.0])                      |\n",
      "|0        |[loathe, game, #rubbish]                   |(262144,[138895,147127,208609],[1.0,1.0,1.0])                     |\n",
      "|0        |[loathe, game, #worstever]                 |(262144,[131186,138895,147127],[1.0,1.0,1.0])                     |\n",
      "|0        |[loathe, team, #thumbs-down]               |(262144,[147127,233174,235700],[1.0,1.0,1.0])                     |\n",
      "|0        |[loathe, winter, #nightmare]               |(262144,[85893,89914,147127],[1.0,1.0,1.0])                       |\n",
      "|1        |[love, cheese, #favorite]                  |(262144,[1689,108624,186480],[1.0,1.0,1.0])                       |\n",
      "|1        |[love, cheese, #toptastic]                 |(262144,[1689,42010,186480],[1.0,1.0,1.0])                        |\n",
      "|1        |[love, jam, #brilliant]                    |(262144,[45361,164887,186480],[1.0,1.0,1.0])                      |\n",
      "|1        |[love, pop, music, #brilliant]             |(262144,[45361,76027,131250,186480],[1.0,1.0,1.0,1.0])            |\n",
      "|1        |[love, pop, music, #favorite]              |(262144,[76027,108624,131250,186480],[1.0,1.0,1.0,1.0])           |\n",
      "|1        |[love, pop, music, #loveit]                |(262144,[76027,131250,186480,254974],[1.0,1.0,1.0,1.0])           |\n",
      "|1        |[love, rock, music, #loveit]               |(262144,[9886,131250,186480,254974],[1.0,1.0,1.0,1.0])            |\n",
      "|1        |[love, skiing, #loveit]                    |(262144,[173426,186480,254974],[1.0,1.0,1.0])                     |\n",
      "|1        |[love, summer, #bestever]                  |(262144,[91011,167401,186480],[1.0,1.0,1.0])                      |\n",
      "|1        |[love, summer, #favorite]                  |(262144,[108624,167401,186480],[1.0,1.0,1.0])                     |\n",
      "|1        |[love, tea, #bestever]                     |(262144,[36797,91011,186480],[1.0,1.0,1.0])                       |\n",
      "|1        |[love, band, #brilliant]                   |(262144,[14118,45361,186480],[1.0,1.0,1.0])                       |\n",
      "|1        |[love, band, #favorite]                    |(262144,[14118,108624,186480],[1.0,1.0,1.0])                      |\n",
      "|1        |[love, band, #loveit]                      |(262144,[14118,186480,254974],[1.0,1.0,1.0])                      |\n",
      "|1        |[love, film, #favorite]                    |(262144,[17291,108624,186480],[1.0,1.0,1.0])                      |\n",
      "|1        |[love, film, #thumbs-up]                   |(262144,[17291,88825,186480],[1.0,1.0,1.0])                       |\n",
      "|1        |[love, movie, #toptastic]                  |(262144,[42010,186480,210223],[1.0,1.0,1.0])                      |\n",
      "|1        |[love, holidays, #loveit]                  |(262144,[186480,236905,254974],[1.0,1.0,1.0])                     |\n",
      "|1        |[love, holidays, #thumbs-up]               |(262144,[88825,186480,236905],[1.0,1.0,1.0])                      |\n",
      "|1        |[love, band, #bestever]                    |(262144,[14118,91011,186480],[1.0,1.0,1.0])                       |\n",
      "|1        |[love, band, #favorite]                    |(262144,[14118,108624,186480],[1.0,1.0,1.0])                      |\n",
      "|1        |[love, book, #brilliant]                   |(262144,[45361,186480,189113],[1.0,1.0,1.0])                      |\n",
      "|1        |[love, book, #thumbs-up]                   |(262144,[88825,186480,189113],[1.0,1.0,1.0])                      |\n",
      "|1        |[love, game, #bestever]                    |(262144,[91011,138895,186480],[1.0,1.0,1.0])                      |\n",
      "|1        |[love, game, #brilliant]                   |(262144,[45361,138895,186480],[1.0,1.0,1.0])                      |\n",
      "|1        |[love, game, #loveit]                      |(262144,[138895,186480,254974],[1.0,1.0,1.0])                     |\n",
      "|1        |[love, game, #thumbs-up]                   |(262144,[88825,138895,186480],[1.0,1.0,1.0])                      |\n",
      "|1        |[love, team, #bestever]                    |(262144,[91011,186480,235700],[1.0,1.0,1.0])                      |\n",
      "|1        |[love, team, #favorite]                    |(262144,[108624,186480,235700],[1.0,1.0,1.0])                     |\n",
      "|1        |[love, team, #toptastic]                   |(262144,[42010,186480,235700],[1.0,1.0,1.0])                      |\n",
      "|1        |[love, winter, #bestever]                  |(262144,[89914,91011,186480],[1.0,1.0,1.0])                       |\n",
      "|1        |[adore, film, #thumbs-up]                  |(262144,[17291,88825,100089],[1.0,1.0,1.0])                       |\n",
      "|1        |[adore, movie, #loveit]                    |(262144,[100089,210223,254974],[1.0,1.0,1.0])                     |\n",
      "|1        |[adore, team, #favorite]                   |(262144,[100089,108624,235700],[1.0,1.0,1.0])                     |\n",
      "|1        |[adore, team, #loveit]                     |(262144,[100089,235700,254974],[1.0,1.0,1.0])                     |\n",
      "|0        |[dislike, film, #hateit]                   |(262144,[17291,60553,222651],[1.0,1.0,1.0])                       |\n",
      "|0        |[dislike, movie, #fail]                    |(262144,[210223,222651,244924],[1.0,1.0,1.0])                     |\n",
      "|0        |[dislike, movie, #nightmare]               |(262144,[85893,210223,222651],[1.0,1.0,1.0])                      |\n",
      "|0        |[dislike, movie, #thumbs-down]             |(262144,[210223,222651,233174],[1.0,1.0,1.0])                     |\n",
      "|0        |[dislike, book, #worstever]                |(262144,[131186,189113,222651],[1.0,1.0,1.0])                     |\n",
      "|0        |[dislike, team, #fail]                     |(262144,[222651,235700,244924],[1.0,1.0,1.0])                     |\n",
      "|0        |[dislike, team, #thumbs-down]              |(262144,[222651,233174,235700],[1.0,1.0,1.0])                     |\n",
      "|0        |[hate, film, #fail]                        |(262144,[17291,72709,244924],[1.0,1.0,1.0])                       |\n",
      "|0        |[hate, movie, #fail]                       |(262144,[72709,210223,244924],[1.0,1.0,1.0])                      |\n",
      "|0        |[hate, movie, #rubbish]                    |(262144,[72709,208609,210223],[1.0,1.0,1.0])                      |\n",
      "|0        |[hate, game, #nightmare]                   |(262144,[72709,85893,138895],[1.0,1.0,1.0])                       |\n",
      "|0        |[hate, game, #rubbish]                     |(262144,[72709,138895,208609],[1.0,1.0,1.0])                      |\n",
      "|0        |[hate, team, #fail]                        |(262144,[72709,235700,244924],[1.0,1.0,1.0])                      |\n",
      "|0        |[hate, team, #hateit]                      |(262144,[60553,72709,235700],[1.0,1.0,1.0])                       |\n",
      "|0        |[hate, team, #worstever]                   |(262144,[72709,131186,235700],[1.0,1.0,1.0])                      |\n",
      "|1        |[like, film, #loveit]                      |(262144,[17291,208258,254974],[1.0,1.0,1.0])                      |\n",
      "|1        |[like, film, #toptastic]                   |(262144,[17291,42010,208258],[1.0,1.0,1.0])                       |\n",
      "|1        |[like, movie, #toptastic]                  |(262144,[42010,208258,210223],[1.0,1.0,1.0])                      |\n",
      "|1        |[like, book, #loveit]                      |(262144,[189113,208258,254974],[1.0,1.0,1.0])                     |\n",
      "|1        |[like, book, #toptastic]                   |(262144,[42010,189113,208258],[1.0,1.0,1.0])                      |\n",
      "|1        |[like, game, #brilliant]                   |(262144,[45361,138895,208258],[1.0,1.0,1.0])                      |\n",
      "|1        |[like, game, #loveit]                      |(262144,[138895,208258,254974],[1.0,1.0,1.0])                     |\n",
      "|0        |[like, game, #toptastic]                   |(262144,[42010,138895,208258],[1.0,1.0,1.0])                      |\n",
      "|1        |[like, team, #bestever]                    |(262144,[91011,208258,235700],[1.0,1.0,1.0])                      |\n",
      "|0        |[loathe, film, #fail]                      |(262144,[17291,147127,244924],[1.0,1.0,1.0])                      |\n",
      "|0        |[loathe, movie, #worstever]                |(262144,[131186,147127,210223],[1.0,1.0,1.0])                     |\n",
      "|0        |[loathe, book, #rubbish]                   |(262144,[147127,189113,208609],[1.0,1.0,1.0])                     |\n",
      "|0        |[loathe, game, #fail]                      |(262144,[138895,147127,244924],[1.0,1.0,1.0])                     |\n",
      "|0        |[loathe, game, #nightmare]                 |(262144,[85893,138895,147127],[1.0,1.0,1.0])                      |\n",
      "|0        |[loathe, game, #rubbish]                   |(262144,[138895,147127,208609],[1.0,1.0,1.0])                     |\n",
      "|0        |[loathe, game, #thumbs-down]               |(262144,[138895,147127,233174],[1.0,1.0,1.0])                     |\n",
      "|0        |[loathe, team, #thumbs-down]               |(262144,[147127,233174,235700],[1.0,1.0,1.0])                     |\n",
      "|1        |[love, film, #bestever]                    |(262144,[17291,91011,186480],[1.0,1.0,1.0])                       |\n",
      "|1        |[love, film, #brilliant]                   |(262144,[17291,45361,186480],[1.0,1.0,1.0])                       |\n",
      "|1        |[love, movie, #toptastic]                  |(262144,[42010,186480,210223],[1.0,1.0,1.0])                      |\n",
      "|1        |[love, book, #favorite]                    |(262144,[108624,186480,189113],[1.0,1.0,1.0])                     |\n",
      "|1        |[love, game, #brilliant]                   |(262144,[45361,138895,186480],[1.0,1.0,1.0])                      |\n",
      "|1        |[love, game, #thumbs-up]                   |(262144,[88825,138895,186480],[1.0,1.0,1.0])                      |\n",
      "|1        |[love, game, #toptastic]                   |(262144,[42010,138895,186480],[1.0,1.0,1.0])                      |\n",
      "|1        |[love, team, #loveit]                      |(262144,[186480,235700,254974],[1.0,1.0,1.0])                     |\n",
      "|1        |[love, team, #thumbs-up]                   |(262144,[88825,186480,235700],[1.0,1.0,1.0])                      |\n",
      "|1        |[love, team, #toptastic]                   |(262144,[42010,186480,235700],[1.0,1.0,1.0])                      |\n",
      "|1        |[cheese, awesome]                          |(262144,[1689,219897],[1.0,1.0])                                  |\n",
      "|0        |[cheese, awful, #worstever]                |(262144,[1689,85041,131186],[1.0,1.0,1.0])                        |\n",
      "|1        |[cheese, fantastic, #favorite]             |(262144,[1689,108624,199176],[1.0,1.0,1.0])                       |\n",
      "|1        |[cheese, fantastic, #toptastic]            |(262144,[1689,42010,199176],[1.0,1.0,1.0])                        |\n",
      "|1        |[cheese, great, #loveit]                   |(262144,[1689,254974,261870],[1.0,1.0,1.0])                       |\n",
      "|0        |[cheese, really, bad, #hateit]             |(262144,[1689,60553,145380,229264],[1.0,1.0,1.0,1.0])             |\n",
      "|0        |[cheese, really, bad, #thumbs-down]        |(262144,[1689,145380,229264,233174],[1.0,1.0,1.0,1.0])            |\n",
      "|0        |[cheese, really, bad, #worstever]          |(262144,[1689,131186,145380,229264],[1.0,1.0,1.0,1.0])            |\n",
      "|0        |[cheese, rubbish, #rubbish]                |(262144,[1689,208609,216381],[1.0,1.0,1.0])                       |\n",
      "|0        |[cheese, rubbish, #thumbs-down]            |(262144,[1689,216381,233174],[1.0,1.0,1.0])                       |\n",
      "|0        |[cheese, terrible, #fail]                  |(262144,[1689,239452,244924],[1.0,1.0,1.0])                       |\n",
      "|0        |[cheese, terrible, #hateit]                |(262144,[1689,60553,239452],[1.0,1.0,1.0])                        |\n",
      "|0        |[cheese, terrible, #nightmare]             |(262144,[1689,85893,239452],[1.0,1.0,1.0])                        |\n",
      "|1        |[cheese, best, #brilliant]                 |(262144,[1689,45361,166027],[1.0,1.0,1.0])                        |\n",
      "|1        |[cheese, best, #favorite]                  |(262144,[1689,108624,166027],[1.0,1.0,1.0])                       |\n",
      "|0        |[classical, music, awful, #nightmare]      |(262144,[85041,85893,102383,131250],[1.0,1.0,1.0,1.0])            |\n",
      "|0        |[classical, music, awful, #rubbish]        |(262144,[85041,102383,131250,208609],[1.0,1.0,1.0,1.0])           |\n",
      "|1        |[classical, music, brilliant, #thumbs-up]  |(262144,[88825,102383,131250,248002],[1.0,1.0,1.0,1.0])           |\n",
      "|1        |[classical, music, brilliant, #toptastic]  |(262144,[42010,102383,131250,248002],[1.0,1.0,1.0,1.0])           |\n",
      "|1        |[classical, music, fantastic, #favorite]   |(262144,[102383,108624,131250,199176],[1.0,1.0,1.0,1.0])          |\n",
      "|1        |[classical, music, great, #bestever]       |(262144,[91011,102383,131250,261870],[1.0,1.0,1.0,1.0])           |\n",
      "|1        |[classical, music, great, #toptastic]      |(262144,[42010,102383,131250,261870],[1.0,1.0,1.0,1.0])           |\n",
      "|0        |[classical, music, really, bad, #nightmare]|(262144,[85893,102383,131250,145380,229264],[1.0,1.0,1.0,1.0,1.0])|\n",
      "|0        |[classical, music, rubbish, #nightmare]    |(262144,[85893,102383,131250,216381],[1.0,1.0,1.0,1.0])           |\n",
      "|0        |[classical, music, rubbish, #thumbs-down]  |(262144,[102383,131250,216381,233174],[1.0,1.0,1.0,1.0])          |\n",
      "|0        |[classical, music, terrible, #rubbish]     |(262144,[102383,131250,208609,239452],[1.0,1.0,1.0,1.0])          |\n",
      "|0        |[classical, music, terrible, #thumbs-down] |(262144,[102383,131250,233174,239452],[1.0,1.0,1.0,1.0])          |\n",
      "|1        |[classical, music, best, #brilliant]       |(262144,[45361,102383,131250,166027],[1.0,1.0,1.0,1.0])           |\n",
      "|1        |[classical, music, best, #loveit]          |(262144,[102383,131250,166027,254974],[1.0,1.0,1.0,1.0])          |\n",
      "|1        |[classical, music, best, #toptastic]       |(262144,[42010,102383,131250,166027],[1.0,1.0,1.0,1.0])           |\n",
      "|0        |[coffee, awful, #fail]                     |(262144,[85041,159212,244924],[1.0,1.0,1.0])                      |\n",
      "|0        |[coffee, awful, #hateit]                   |(262144,[60553,85041,159212],[1.0,1.0,1.0])                       |\n",
      "|0        |[coffee, awful, #thumbs-down]              |(262144,[85041,159212,233174],[1.0,1.0,1.0])                      |\n",
      "|1        |[coffee, brilliant, #brilliant]            |(262144,[45361,159212,248002],[1.0,1.0,1.0])                      |\n",
      "|1        |[coffee, brilliant, #loveit]               |(262144,[159212,248002,254974],[1.0,1.0,1.0])                     |\n",
      "|1        |[coffee, brilliant, #toptastic]            |(262144,[42010,159212,248002],[1.0,1.0,1.0])                      |\n",
      "|1        |[coffee, fantastic, #brilliant]            |(262144,[45361,159212,199176],[1.0,1.0,1.0])                      |\n",
      "|1        |[coffee, fantastic, #loveit]               |(262144,[159212,199176,254974],[1.0,1.0,1.0])                     |\n",
      "|1        |[coffee, great, #brilliant]                |(262144,[45361,159212,261870],[1.0,1.0,1.0])                      |\n",
      "|1        |[coffee, great, #favorite]                 |(262144,[108624,159212,261870],[1.0,1.0,1.0])                     |\n",
      "|1        |[coffee, great, #thumbs-up]                |(262144,[88825,159212,261870],[1.0,1.0,1.0])                      |\n",
      "|1        |[coffee, great, #toptastic]                |(262144,[42010,159212,261870],[1.0,1.0,1.0])                      |\n",
      "|0        |[coffee, really, bad, #hateit]             |(262144,[60553,145380,159212,229264],[1.0,1.0,1.0,1.0])           |\n",
      "|0        |[coffee, really, bad, #nightmare]          |(262144,[85893,145380,159212,229264],[1.0,1.0,1.0,1.0])           |\n",
      "|0        |[coffee, really, bad, #worstever]          |(262144,[131186,145380,159212,229264],[1.0,1.0,1.0,1.0])          |\n",
      "|0        |[coffee, rubbish, #fail]                   |(262144,[159212,216381,244924],[1.0,1.0,1.0])                     |\n",
      "|0        |[coffee, rubbish, #rubbish]                |(262144,[159212,208609,216381],[1.0,1.0,1.0])                     |\n",
      "|0        |[coffee, rubbish, #worstever]              |(262144,[131186,159212,216381],[1.0,1.0,1.0])                     |\n",
      "|0        |[coffee, terrible, #fail]                  |(262144,[159212,239452,244924],[1.0,1.0,1.0])                     |\n",
      "|0        |[coffee, terrible, #hateit]                |(262144,[60553,159212,239452],[1.0,1.0,1.0])                      |\n",
      "|1        |[coffee, best, #favorite]                  |(262144,[108624,159212,166027],[1.0,1.0,1.0])                     |\n",
      "|1        |[coffee, best, #thumbs-up]                 |(262144,[88825,159212,166027],[1.0,1.0,1.0])                      |\n",
      "|1        |[coffee, best, #toptastic]                 |(262144,[42010,159212,166027],[1.0,1.0,1.0])                      |\n",
      "|0        |[jam, awful, #nightmare]                   |(262144,[85041,85893,164887],[1.0,1.0,1.0])                       |\n",
      "|0        |[jam, awful, #rubbish]                     |(262144,[85041,164887,208609],[1.0,1.0,1.0])                      |\n",
      "|0        |[jam, awful, #worstever]                   |(262144,[85041,131186,164887],[1.0,1.0,1.0])                      |\n",
      "|1        |[jam, brilliant, #thumbs-up]               |(262144,[88825,164887,248002],[1.0,1.0,1.0])                      |\n",
      "|1        |[jam, brilliant, #toptastic]               |(262144,[42010,164887,248002],[1.0,1.0,1.0])                      |\n",
      "|1        |[jam, fantastic, #thumbs-up]               |(262144,[88825,164887,199176],[1.0,1.0,1.0])                      |\n",
      "|1        |[jam, great, #bestever]                    |(262144,[91011,164887,261870],[1.0,1.0,1.0])                      |\n",
      "|0        |[jam, really, bad, #rubbish]               |(262144,[145380,164887,208609,229264],[1.0,1.0,1.0,1.0])          |\n",
      "|0        |[jam, rubbish, #hateit]                    |(262144,[60553,164887,216381],[1.0,1.0,1.0])                      |\n",
      "|0        |[jam, rubbish, #rubbish]                   |(262144,[164887,208609,216381],[1.0,1.0,1.0])                     |\n",
      "|0        |[jam, terrible, #rubbish]                  |(262144,[164887,208609,239452],[1.0,1.0,1.0])                     |\n",
      "|0        |[jam, terrible, #thumbs-down]              |(262144,[164887,233174,239452],[1.0,1.0,1.0])                     |\n",
      "|1        |[jam, best, #bestever]                     |(262144,[91011,164887,166027],[1.0,1.0,1.0])                      |\n",
      "|1        |[jam, best, #brilliant]                    |(262144,[45361,164887,166027],[1.0,1.0,1.0])                      |\n",
      "|0        |[pop, music, awful, #thumbs-down]          |(262144,[76027,85041,131250,233174],[1.0,1.0,1.0,1.0])            |\n",
      "|0        |[pop, music, awful, #worstever]            |(262144,[76027,85041,131186,131250],[1.0,1.0,1.0,1.0])            |\n",
      "|1        |[pop, music, brilliant, #loveit]           |(262144,[76027,131250,248002,254974],[1.0,1.0,1.0,1.0])           |\n",
      "|1        |[pop, music, fantastic, #loveit]           |(262144,[76027,131250,199176,254974],[1.0,1.0,1.0,1.0])           |\n",
      "|1        |[pop, music, great, #loveit]               |(262144,[76027,131250,254974,261870],[1.0,1.0,1.0,1.0])           |\n",
      "|1        |[pop, music, great, #toptastic]            |(262144,[42010,76027,131250,261870],[1.0,1.0,1.0,1.0])            |\n",
      "|0        |[pop, music, really, bad, #worstever]      |(262144,[76027,131186,131250,145380,229264],[1.0,1.0,1.0,1.0,1.0])|\n",
      "|0        |[pop, music, rubbish, #hateit]             |(262144,[60553,76027,131250,216381],[1.0,1.0,1.0,1.0])            |\n",
      "|0        |[pop, music, rubbish, #rubbish]            |(262144,[76027,131250,208609,216381],[1.0,1.0,1.0,1.0])           |\n",
      "|0        |[pop, music, terrible, #hateit]            |(262144,[60553,76027,131250,239452],[1.0,1.0,1.0,1.0])            |\n",
      "|1        |[pop, music, best, #thumbs-up]             |(262144,[76027,88825,131250,166027],[1.0,1.0,1.0,1.0])            |\n",
      "|0        |[rock, music, awful, #thumbs-down]         |(262144,[9886,85041,131250,233174],[1.0,1.0,1.0,1.0])             |\n",
      "|0        |[rock, music, awful, #worstever]           |(262144,[9886,85041,131186,131250],[1.0,1.0,1.0,1.0])             |\n",
      "|1        |[rock, music, brilliant, #loveit]          |(262144,[9886,131250,248002,254974],[1.0,1.0,1.0,1.0])            |\n",
      "|1        |[rock, music, brilliant, #thumbs-up]       |(262144,[9886,88825,131250,248002],[1.0,1.0,1.0,1.0])             |\n",
      "|1        |[rock, music, great, #bestever]            |(262144,[9886,91011,131250,261870],[1.0,1.0,1.0,1.0])             |\n",
      "|1        |[rock, music, great, #toptastic]           |(262144,[9886,42010,131250,261870],[1.0,1.0,1.0,1.0])             |\n",
      "|0        |[rock, music, rubbish, #fail]              |(262144,[9886,131250,216381,244924],[1.0,1.0,1.0,1.0])            |\n",
      "|0        |[rock, music, rubbish, #nightmare]         |(262144,[9886,85893,131250,216381],[1.0,1.0,1.0,1.0])             |\n",
      "|0        |[rock, music, rubbish, #rubbish]           |(262144,[9886,131250,208609,216381],[1.0,1.0,1.0,1.0])            |\n",
      "|0        |[rock, music, terrible, #fail]             |(262144,[9886,131250,239452,244924],[1.0,1.0,1.0,1.0])            |\n",
      "|0        |[rock, music, terrible, #hateit]           |(262144,[9886,60553,131250,239452],[1.0,1.0,1.0,1.0])             |\n",
      "|1        |[rock, music, best, #brilliant]            |(262144,[9886,45361,131250,166027],[1.0,1.0,1.0,1.0])             |\n",
      "|1        |[rock, music, best, #loveit]               |(262144,[9886,131250,166027,254974],[1.0,1.0,1.0,1.0])            |\n",
      "|1        |[rock, music, best, #thumbs-up]            |(262144,[9886,88825,131250,166027],[1.0,1.0,1.0,1.0])             |\n",
      "|0        |[skiing, awful, #thumbs-down]              |(262144,[85041,173426,233174],[1.0,1.0,1.0])                      |\n",
      "|1        |[skiing, brilliant, #loveit]               |(262144,[173426,248002,254974],[1.0,1.0,1.0])                     |\n",
      "|1        |[skiing, fantastic, #favorite]             |(262144,[108624,173426,199176],[1.0,1.0,1.0])                     |\n",
      "|1        |[skiing, fantastic, #loveit]               |(262144,[173426,199176,254974],[1.0,1.0,1.0])                     |\n",
      "|1        |[skiing, fantastic, #toptastic]            |(262144,[42010,173426,199176],[1.0,1.0,1.0])                      |\n",
      "|1        |[skiing, great, #toptastic]                |(262144,[42010,173426,261870],[1.0,1.0,1.0])                      |\n",
      "|0        |[skiing, really, bad, #nightmare]          |(262144,[85893,145380,173426,229264],[1.0,1.0,1.0,1.0])           |\n",
      "|0        |[skiing, really, bad, #rubbish]            |(262144,[145380,173426,208609,229264],[1.0,1.0,1.0,1.0])          |\n",
      "|0        |[skiing, really, bad, #thumbs-down]        |(262144,[145380,173426,229264,233174],[1.0,1.0,1.0,1.0])          |\n",
      "|0        |[skiing, rubbish, #fail]                   |(262144,[173426,216381,244924],[1.0,1.0,1.0])                     |\n",
      "|0        |[skiing, rubbish, #rubbish]                |(262144,[173426,208609,216381],[1.0,1.0,1.0])                     |\n",
      "|1        |[skiing, best, #bestever]                  |(262144,[91011,166027,173426],[1.0,1.0,1.0])                      |\n",
      "|0        |[summer, awful, #hateit]                   |(262144,[60553,85041,167401],[1.0,1.0,1.0])                       |\n",
      "|0        |[summer, awful, #thumbs-down]              |(262144,[85041,167401,233174],[1.0,1.0,1.0])                      |\n",
      "|1        |[summer, brilliant, #bestever]             |(262144,[91011,167401,248002],[1.0,1.0,1.0])                      |\n",
      "|1        |[summer, brilliant, #favorite]             |(262144,[108624,167401,248002],[1.0,1.0,1.0])                     |\n",
      "|1        |[summer, brilliant, #loveit]               |(262144,[167401,248002,254974],[1.0,1.0,1.0])                     |\n",
      "|1        |[summer, brilliant, #thumbs-up]            |(262144,[88825,167401,248002],[1.0,1.0,1.0])                      |\n",
      "|1        |[summer, fantastic, #brilliant]            |(262144,[45361,167401,199176],[1.0,1.0,1.0])                      |\n",
      "|1        |[summer, fantastic, #favorite]             |(262144,[108624,167401,199176],[1.0,1.0,1.0])                     |\n",
      "|1        |[summer, fantastic, #loveit]               |(262144,[167401,199176,254974],[1.0,1.0,1.0])                     |\n",
      "|1        |[summer, great, #bestever]                 |(262144,[91011,167401,261870],[1.0,1.0,1.0])                      |\n",
      "|1        |[summer, great, #loveit]                   |(262144,[167401,254974,261870],[1.0,1.0,1.0])                     |\n",
      "|1        |[summer, great, #thumbs-up]                |(262144,[88825,167401,261870],[1.0,1.0,1.0])                      |\n",
      "|1        |[summer, great, #toptastic]                |(262144,[42010,167401,261870],[1.0,1.0,1.0])                      |\n",
      "|0        |[summer, really, bad, #hateit]             |(262144,[60553,145380,167401,229264],[1.0,1.0,1.0,1.0])           |\n",
      "|0        |[summer, rubbish, #worstever]              |(262144,[131186,167401,216381],[1.0,1.0,1.0])                     |\n",
      "|0        |[summer, terrible, #worstever]             |(262144,[131186,167401,239452],[1.0,1.0,1.0])                     |\n",
      "|1        |[summer, best, #thumbs-up]                 |(262144,[88825,166027,167401],[1.0,1.0,1.0])                      |\n",
      "|1        |[summer, best, #toptastic]                 |(262144,[42010,166027,167401],[1.0,1.0,1.0])                      |\n",
      "|0        |[tea, awful, #fail]                        |(262144,[36797,85041,244924],[1.0,1.0,1.0])                       |\n",
      "|1        |[tea, brilliant, #bestever]                |(262144,[36797,91011,248002],[1.0,1.0,1.0])                       |\n",
      "|1        |[tea, brilliant, #brilliant]               |(262144,[36797,45361,248002],[1.0,1.0,1.0])                       |\n",
      "|1        |[tea, brilliant, #favorite]                |(262144,[36797,108624,248002],[1.0,1.0,1.0])                      |\n",
      "|1        |[tea, brilliant, #toptastic]               |(262144,[36797,42010,248002],[1.0,1.0,1.0])                       |\n",
      "|1        |[tea, fantastic, #thumbs-up]               |(262144,[36797,88825,199176],[1.0,1.0,1.0])                       |\n",
      "|1        |[tea, great, #brilliant]                   |(262144,[36797,45361,261870],[1.0,1.0,1.0])                       |\n",
      "|1        |[tea, great, #favorite]                    |(262144,[36797,108624,261870],[1.0,1.0,1.0])                      |\n",
      "|1        |[tea, great, #loveit]                      |(262144,[36797,254974,261870],[1.0,1.0,1.0])                      |\n",
      "|0        |[tea, really, bad, #nightmare]             |(262144,[36797,85893,145380,229264],[1.0,1.0,1.0,1.0])            |\n",
      "|0        |[tea, really, bad, #worstever]             |(262144,[36797,131186,145380,229264],[1.0,1.0,1.0,1.0])           |\n",
      "|0        |[tea, rubbish, #fail]                      |(262144,[36797,216381,244924],[1.0,1.0,1.0])                      |\n",
      "|0        |[tea, rubbish, #hateit]                    |(262144,[36797,60553,216381],[1.0,1.0,1.0])                       |\n",
      "|0        |[tea, rubbish, #nightmare]                 |(262144,[36797,85893,216381],[1.0,1.0,1.0])                       |\n",
      "|0        |[tea, rubbish, #rubbish]                   |(262144,[36797,208609,216381],[1.0,1.0,1.0])                      |\n",
      "|0        |[tea, terrible, #rubbish]                  |(262144,[36797,208609,239452],[1.0,1.0,1.0])                      |\n",
      "|0        |[tea, terrible, #thumbs-down]              |(262144,[36797,233174,239452],[1.0,1.0,1.0])                      |\n",
      "|1        |[band, awful, #fail]                       |(262144,[14118,85041,244924],[1.0,1.0,1.0])                       |\n",
      "|0        |[band, awful, #nightmare]                  |(262144,[14118,85041,85893],[1.0,1.0,1.0])                        |\n",
      "|0        |[band, awful, #rubbish]                    |(262144,[14118,85041,208609],[1.0,1.0,1.0])                       |\n",
      "|1        |[band, brilliant, #brilliant]              |(262144,[14118,45361,248002],[1.0,1.0,1.0])                       |\n",
      "|1        |[band, brilliant, #favorite]               |(262144,[14118,108624,248002],[1.0,1.0,1.0])                      |\n",
      "|1        |[band, brilliant, #thumbs-up]              |(262144,[14118,88825,248002],[1.0,1.0,1.0])                       |\n",
      "|1        |[band, fantastic, #toptastic]              |(262144,[14118,42010,199176],[1.0,1.0,1.0])                       |\n",
      "|1        |[band, great, #bestever]                   |(262144,[14118,91011,261870],[1.0,1.0,1.0])                       |\n",
      "|1        |[band, great, #loveit]                     |(262144,[14118,254974,261870],[1.0,1.0,1.0])                      |\n",
      "|0        |[band, really, bad, #nightmare]            |(262144,[14118,85893,145380,229264],[1.0,1.0,1.0,1.0])            |\n",
      "|0        |[band, really, bad, #rubbish]              |(262144,[14118,145380,208609,229264],[1.0,1.0,1.0,1.0])           |\n",
      "|0        |[band, really, bad, #thumbs-down]          |(262144,[14118,145380,229264,233174],[1.0,1.0,1.0,1.0])           |\n",
      "|0        |[band, really, bad, #worstever]            |(262144,[14118,131186,145380,229264],[1.0,1.0,1.0,1.0])           |\n",
      "|0        |[band, rubbish, #hateit]                   |(262144,[14118,60553,216381],[1.0,1.0,1.0])                       |\n",
      "|0        |[band, terrible, #hateit]                  |(262144,[14118,60553,239452],[1.0,1.0,1.0])                       |\n",
      "|0        |[band, terrible, #worstever]               |(262144,[14118,131186,239452],[1.0,1.0,1.0])                      |\n",
      "|0        |[film, awful, #fail]                       |(262144,[17291,85041,244924],[1.0,1.0,1.0])                       |\n",
      "|0        |[film, awful, #rubbish]                    |(262144,[17291,85041,208609],[1.0,1.0,1.0])                       |\n",
      "|0        |[film, awful, #thumbs-down]                |(262144,[17291,85041,233174],[1.0,1.0,1.0])                       |\n",
      "|1        |[film, brilliant, #favorite]               |(262144,[17291,108624,248002],[1.0,1.0,1.0])                      |\n",
      "|1        |[film, brilliant, #loveit]                 |(262144,[17291,248002,254974],[1.0,1.0,1.0])                      |\n",
      "|1        |[film, brilliant, #thumbs-up]              |(262144,[17291,88825,248002],[1.0,1.0,1.0])                       |\n",
      "|1        |[film, fantastic, #loveit]                 |(262144,[17291,199176,254974],[1.0,1.0,1.0])                      |\n",
      "|0        |[film, fantastic, #thumbs-up]              |(262144,[17291,88825,199176],[1.0,1.0,1.0])                       |\n",
      "|1        |[film, fantastic, #toptastic]              |(262144,[17291,42010,199176],[1.0,1.0,1.0])                       |\n",
      "|1        |[film, great, #favorite]                   |(262144,[17291,108624,261870],[1.0,1.0,1.0])                      |\n",
      "|1        |[film, great, #loveit]                     |(262144,[17291,254974,261870],[1.0,1.0,1.0])                      |\n",
      "|1        |[film, great, #loveit]                     |(262144,[17291,254974,261870],[1.0,1.0,1.0])                      |\n",
      "|0        |[film, really, bad, #fail]                 |(262144,[17291,145380,229264,244924],[1.0,1.0,1.0,1.0])           |\n",
      "|0        |[film, really, bad, #hateit]               |(262144,[17291,60553,145380,229264],[1.0,1.0,1.0,1.0])            |\n",
      "|0        |[film, really, bad, #nightmare]            |(262144,[17291,85893,145380,229264],[1.0,1.0,1.0,1.0])            |\n",
      "|0        |[film, really, bad, #nightmare]            |(262144,[17291,85893,145380,229264],[1.0,1.0,1.0,1.0])            |\n",
      "|0        |[film, really, bad, #rubbish]              |(262144,[17291,145380,208609,229264],[1.0,1.0,1.0,1.0])           |\n",
      "|0        |[film, rubbish, #fail]                     |(262144,[17291,216381,244924],[1.0,1.0,1.0])                      |\n",
      "|0        |[film, terrible, #fail]                    |(262144,[17291,239452,244924],[1.0,1.0,1.0])                      |\n",
      "|0        |[film, terrible, #thumbs-down]             |(262144,[17291,233174,239452],[1.0,1.0,1.0])                      |\n",
      "|0        |[film, terrible, #thumbs-down]             |(262144,[17291,233174,239452],[1.0,1.0,1.0])                      |\n",
      "|1        |[film, best, #favorite]                    |(262144,[17291,108624,166027],[1.0,1.0,1.0])                      |\n",
      "|1        |[film, best, #loveit]                      |(262144,[17291,166027,254974],[1.0,1.0,1.0])                      |\n",
      "|0        |[movie, awful, #fail]                      |(262144,[85041,210223,244924],[1.0,1.0,1.0])                      |\n",
      "|0        |[movie, awful, #nightmare]                 |(262144,[85041,85893,210223],[1.0,1.0,1.0])                       |\n",
      "|0        |[movie, awful, #rubbish]                   |(262144,[85041,208609,210223],[1.0,1.0,1.0])                      |\n",
      "|0        |[movie, awful, #thumbs-down]               |(262144,[85041,210223,233174],[1.0,1.0,1.0])                      |\n",
      "|1        |[movie, brilliant, #loveit]                |(262144,[210223,248002,254974],[1.0,1.0,1.0])                     |\n",
      "|1        |[movie, brilliant, #loveit]                |(262144,[210223,248002,254974],[1.0,1.0,1.0])                     |\n",
      "|1        |[movie, brilliant, #toptastic]             |(262144,[42010,210223,248002],[1.0,1.0,1.0])                      |\n",
      "|0        |[movie, fantastic, #bestever]              |(262144,[91011,199176,210223],[1.0,1.0,1.0])                      |\n",
      "|1        |[movie, fantastic, #bestever]              |(262144,[91011,199176,210223],[1.0,1.0,1.0])                      |\n",
      "|1        |[movie, fantastic, #loveit]                |(262144,[199176,210223,254974],[1.0,1.0,1.0])                     |\n",
      "|1        |[movie, fantastic, #thumbs-up]             |(262144,[88825,199176,210223],[1.0,1.0,1.0])                      |\n",
      "|1        |[movie, fantastic, #toptastic]             |(262144,[42010,199176,210223],[1.0,1.0,1.0])                      |\n",
      "|1        |[movie, great, #brilliant]                 |(262144,[45361,210223,261870],[1.0,1.0,1.0])                      |\n",
      "|1        |[movie, great, #favorite]                  |(262144,[108624,210223,261870],[1.0,1.0,1.0])                     |\n",
      "|1        |[movie, great, #toptastic]                 |(262144,[42010,210223,261870],[1.0,1.0,1.0])                      |\n",
      "|1        |[movie, great, #toptastic]                 |(262144,[42010,210223,261870],[1.0,1.0,1.0])                      |\n",
      "|0        |[movie, really, bad, #hateit]              |(262144,[60553,145380,210223,229264],[1.0,1.0,1.0,1.0])           |\n",
      "|0        |[movie, really, bad, #rubbish]             |(262144,[145380,208609,210223,229264],[1.0,1.0,1.0,1.0])          |\n",
      "|0        |[movie, really, bad, #thumbs-down]         |(262144,[145380,210223,229264,233174],[1.0,1.0,1.0,1.0])          |\n",
      "|0        |[movie, really, bad, #worstever]           |(262144,[131186,145380,210223,229264],[1.0,1.0,1.0,1.0])          |\n",
      "|0        |[movie, rubbish, #hateit]                  |(262144,[60553,210223,216381],[1.0,1.0,1.0])                      |\n",
      "|0        |[movie, rubbish, #nightmare]               |(262144,[85893,210223,216381],[1.0,1.0,1.0])                      |\n",
      "|0        |[movie, terrible, #rubbish]                |(262144,[208609,210223,239452],[1.0,1.0,1.0])                     |\n",
      "|0        |[movie, terrible, #thumbs-down]            |(262144,[210223,233174,239452],[1.0,1.0,1.0])                     |\n",
      "|0        |[movie, terrible, #worstever]              |(262144,[131186,210223,239452],[1.0,1.0,1.0])                     |\n",
      "|0        |[movie, terrible, #worstever]              |(262144,[131186,210223,239452],[1.0,1.0,1.0])                     |\n",
      "|1        |[movie, best, #brilliant]                  |(262144,[45361,166027,210223],[1.0,1.0,1.0])                      |\n",
      "|1        |[movie, best, #favorite]                   |(262144,[108624,166027,210223],[1.0,1.0,1.0])                     |\n",
      "|1        |[movie, best, #toptastic]                  |(262144,[42010,166027,210223],[1.0,1.0,1.0])                      |\n",
      "|0        |[holidays, awful, #hateit]                 |(262144,[60553,85041,236905],[1.0,1.0,1.0])                       |\n",
      "|1        |[holidays, brilliant, #brilliant]          |(262144,[45361,236905,248002],[1.0,1.0,1.0])                      |\n",
      "|1        |[holidays, brilliant, #thumbs-up]          |(262144,[88825,236905,248002],[1.0,1.0,1.0])                      |\n",
      "|1        |[holidays, fantastic, #bestever]           |(262144,[91011,199176,236905],[1.0,1.0,1.0])                      |\n",
      "|1        |[holidays, great, #bestever]               |(262144,[91011,236905,261870],[1.0,1.0,1.0])                      |\n",
      "|1        |[holidays, great, #loveit]                 |(262144,[236905,254974,261870],[1.0,1.0,1.0])                     |\n",
      "|1        |[holidays, great, #toptastic]              |(262144,[42010,236905,261870],[1.0,1.0,1.0])                      |\n",
      "|0        |[holidays, really, bad, #rubbish]          |(262144,[145380,208609,229264,236905],[1.0,1.0,1.0,1.0])          |\n",
      "|0        |[holidays, rubbish, #fail]                 |(262144,[216381,236905,244924],[1.0,1.0,1.0])                     |\n",
      "|0        |[holidays, rubbish, #hateit]               |(262144,[60553,216381,236905],[1.0,1.0,1.0])                      |\n",
      "|0        |[holidays, rubbish, #rubbish]              |(262144,[208609,216381,236905],[1.0,1.0,1.0])                     |\n",
      "|0        |[holidays, rubbish, #thumbs-down]          |(262144,[216381,233174,236905],[1.0,1.0,1.0])                     |\n",
      "|0        |[holidays, terrible, #fail]                |(262144,[236905,239452,244924],[1.0,1.0,1.0])                     |\n",
      "|0        |[holidays, terrible, #hateit]              |(262144,[60553,236905,239452],[1.0,1.0,1.0])                      |\n",
      "|1        |[holidays, best, #brilliant]               |(262144,[45361,166027,236905],[1.0,1.0,1.0])                      |\n",
      "|1        |[holidays, best, #thumbs-up]               |(262144,[88825,166027,236905],[1.0,1.0,1.0])                      |\n",
      "|0        |[band, awful, #hateit]                     |(262144,[14118,60553,85041],[1.0,1.0,1.0])                        |\n",
      "|1        |[band, brilliant, #brilliant]              |(262144,[14118,45361,248002],[1.0,1.0,1.0])                       |\n",
      "|1        |[band, great, #brilliant]                  |(262144,[14118,45361,261870],[1.0,1.0,1.0])                       |\n",
      "|1        |[band, great, #favorite]                   |(262144,[14118,108624,261870],[1.0,1.0,1.0])                      |\n",
      "|1        |[band, great, #thumbs-up]                  |(262144,[14118,88825,261870],[1.0,1.0,1.0])                       |\n",
      "|0        |[band, really, bad, #nightmare]            |(262144,[14118,85893,145380,229264],[1.0,1.0,1.0,1.0])            |\n",
      "|0        |[band, terrible, #fail]                    |(262144,[14118,239452,244924],[1.0,1.0,1.0])                      |\n",
      "|1        |[band, best, #bestever]                    |(262144,[14118,91011,166027],[1.0,1.0,1.0])                       |\n",
      "|0        |[book, awful, #nightmare]                  |(262144,[85041,85893,189113],[1.0,1.0,1.0])                       |\n",
      "|0        |[book, awful, #rubbish]                    |(262144,[85041,189113,208609],[1.0,1.0,1.0])                      |\n",
      "|0        |[book, awful, #rubbish]                    |(262144,[85041,189113,208609],[1.0,1.0,1.0])                      |\n",
      "|0        |[book, awful, #thumbs-down]                |(262144,[85041,189113,233174],[1.0,1.0,1.0])                      |\n",
      "|0        |[book, awful, #worstever]                  |(262144,[85041,131186,189113],[1.0,1.0,1.0])                      |\n",
      "|1        |[book, brilliant, #loveit]                 |(262144,[189113,248002,254974],[1.0,1.0,1.0])                     |\n",
      "|0        |[book, brilliant, #toptastic]              |(262144,[42010,189113,248002],[1.0,1.0,1.0])                      |\n",
      "|1        |[book, fantastic, #loveit]                 |(262144,[189113,199176,254974],[1.0,1.0,1.0])                     |\n",
      "|1        |[book, fantastic, #loveit]                 |(262144,[189113,199176,254974],[1.0,1.0,1.0])                     |\n",
      "|1        |[book, fantastic, #thumbs-up]              |(262144,[88825,189113,199176],[1.0,1.0,1.0])                      |\n",
      "|1        |[book, fantastic, #thumbs-up]              |(262144,[88825,189113,199176],[1.0,1.0,1.0])                      |\n",
      "|1        |[book, fantastic, #toptastic]              |(262144,[42010,189113,199176],[1.0,1.0,1.0])                      |\n",
      "|1        |[book, great, #bestever]                   |(262144,[91011,189113,261870],[1.0,1.0,1.0])                      |\n",
      "|1        |[book, great, #brilliant]                  |(262144,[45361,189113,261870],[1.0,1.0,1.0])                      |\n",
      "|1        |[book, great, #thumbs-up]                  |(262144,[88825,189113,261870],[1.0,1.0,1.0])                      |\n",
      "|0        |[book, great, #toptastic]                  |(262144,[42010,189113,261870],[1.0,1.0,1.0])                      |\n",
      "|0        |[book, really, bad, #hateit]               |(262144,[60553,145380,189113,229264],[1.0,1.0,1.0,1.0])           |\n",
      "|0        |[book, really, bad, #hateit]               |(262144,[60553,145380,189113,229264],[1.0,1.0,1.0,1.0])           |\n",
      "|0        |[book, really, bad, #rubbish]              |(262144,[145380,189113,208609,229264],[1.0,1.0,1.0,1.0])          |\n",
      "|0        |[book, really, bad, #worstever]            |(262144,[131186,145380,189113,229264],[1.0,1.0,1.0,1.0])          |\n",
      "|0        |[book, rubbish, #fail]                     |(262144,[189113,216381,244924],[1.0,1.0,1.0])                     |\n",
      "|0        |[book, rubbish, #hateit]                   |(262144,[60553,189113,216381],[1.0,1.0,1.0])                      |\n",
      "|0        |[book, rubbish, #hateit]                   |(262144,[60553,189113,216381],[1.0,1.0,1.0])                      |\n",
      "|0        |[book, rubbish, #rubbish]                  |(262144,[189113,208609,216381],[1.0,1.0,1.0])                     |\n",
      "|0        |[book, rubbish, #rubbish]                  |(262144,[189113,208609,216381],[1.0,1.0,1.0])                     |\n",
      "|0        |[book, terrible, #fail]                    |(262144,[189113,239452,244924],[1.0,1.0,1.0])                     |\n",
      "|0        |[book, terrible, #nightmare]               |(262144,[85893,189113,239452],[1.0,1.0,1.0])                      |\n",
      "|0        |[book, terrible, #nightmare]               |(262144,[85893,189113,239452],[1.0,1.0,1.0])                      |\n",
      "|1        |[book, best, #bestever]                    |(262144,[91011,166027,189113],[1.0,1.0,1.0])                      |\n",
      "|1        |[book, best, #favorite]                    |(262144,[108624,166027,189113],[1.0,1.0,1.0])                     |\n",
      "|1        |[book, best, #loveit]                      |(262144,[166027,189113,254974],[1.0,1.0,1.0])                     |\n",
      "|0        |[game, awful, #fail]                       |(262144,[85041,138895,244924],[1.0,1.0,1.0])                      |\n",
      "|0        |[game, awful, #fail]                       |(262144,[85041,138895,244924],[1.0,1.0,1.0])                      |\n",
      "|0        |[game, awful, #rubbish]                    |(262144,[85041,138895,208609],[1.0,1.0,1.0])                      |\n",
      "|0        |[game, awful, #thumbs-down]                |(262144,[85041,138895,233174],[1.0,1.0,1.0])                      |\n",
      "|1        |[game, brilliant, #bestever]               |(262144,[91011,138895,248002],[1.0,1.0,1.0])                      |\n",
      "|1        |[game, brilliant, #bestever]               |(262144,[91011,138895,248002],[1.0,1.0,1.0])                      |\n",
      "|1        |[game, brilliant, #brilliant]              |(262144,[45361,138895,248002],[1.0,1.0,1.0])                      |\n",
      "|1        |[game, brilliant, #thumbs-up]              |(262144,[88825,138895,248002],[1.0,1.0,1.0])                      |\n",
      "|1        |[game, brilliant, #thumbs-up]              |(262144,[88825,138895,248002],[1.0,1.0,1.0])                      |\n",
      "+---------+-------------------------------------------+------------------------------------------------------------------+\n",
      "only showing top 500 rows\n",
      "\n"
     ]
    }
   ],
   "source": [
    "tokenizedTest = tokenizer.transform(test)\n",
    "SwRemovedTest = swr.transform(tokenizedTest)\n",
    "numericTest = hashTF.transform(SwRemovedTest).select('trueLabel','MeaningfulWords','features')\n",
    "\n",
    "numericTest.show(truncate=False, n=500)"
   ]
  },
  {
   "cell_type": "markdown",
   "metadata": {
    "id": "xLlLZvI7WvV2"
   },
   "source": [
    "# **Predicting and Calculating Model Accuracy**"
   ]
  },
  {
   "cell_type": "code",
   "execution_count": null,
   "metadata": {
    "colab": {
     "base_uri": "https://localhost:8080/"
    },
    "id": "tM_AI_7kVPgG",
    "outputId": "6af0f53f-3dd4-48e8-e651-814ba926b614"
   },
   "outputs": [
    {
     "name": "stdout",
     "output_type": "stream",
     "text": [
      "+-------------------------------------+----------+---------+\n",
      "|MeaningfulWords                      |prediction|trueLabel|\n",
      "+-------------------------------------+----------+---------+\n",
      "|[adore, cheese, #toptastic]          |1.0       |1        |\n",
      "|[adore, classical, music, #bestever] |1.0       |1        |\n",
      "|[adore, classical, music, #brilliant]|1.0       |1        |\n",
      "|[adore, classical, music, #loveit]   |1.0       |1        |\n",
      "|[adore, coffee, #brilliant]          |1.0       |1        |\n",
      "|[adore, coffee, #toptastic]          |1.0       |1        |\n",
      "|[adore, jam, #brilliant]             |1.0       |1        |\n",
      "|[adore, jam, #favorite]              |1.0       |1        |\n",
      "|[adore, pop, music, #bestever]       |1.0       |1        |\n",
      "|[adore, pop, music, #loveit]         |1.0       |1        |\n",
      "|[adore, rock, music, #bestever]      |1.0       |1        |\n",
      "|[adore, skiing, #brilliant]          |1.0       |1        |\n",
      "|[adore, skiing, #favorite]           |1.0       |1        |\n",
      "|[adore, skiing, #loveit]             |1.0       |1        |\n",
      "|[adore, summer, #loveit]             |1.0       |1        |\n",
      "|[adore, tea, #favorite]              |1.0       |1        |\n",
      "|[adore, tea, #toptastic]             |1.0       |1        |\n",
      "|[adore, film, #brilliant]            |1.0       |1        |\n",
      "|[adore, film, #loveit]               |1.0       |1        |\n",
      "|[adore, movie, #favorite]            |1.0       |1        |\n",
      "|[adore, holidays, #loveit]           |1.0       |1        |\n",
      "|[adore, book, #favorite]             |1.0       |1        |\n",
      "|[adore, game, #thumbs-up]            |1.0       |1        |\n",
      "|[adore, team, #bestever]             |1.0       |1        |\n",
      "|[adore, team, #loveit]               |1.0       |1        |\n",
      "|[adore, team, #toptastic]            |1.0       |1        |\n",
      "|[adore, winter, #bestever]           |1.0       |1        |\n",
      "|[adore, winter, #brilliant]          |1.0       |1        |\n",
      "|[adore, winter, #loveit]             |1.0       |1        |\n",
      "|[dislike, cheese, #rubbish]          |0.0       |0        |\n",
      "|[dislike, cheese, #worstever]        |0.0       |0        |\n",
      "|[dislike, classical, music, #rubbish]|0.0       |0        |\n",
      "|[dislike, coffee, #nightmare]        |0.0       |0        |\n",
      "|[dislike, coffee, #thumbs-down]      |0.0       |0        |\n",
      "|[dislike, pop, music, #fail]         |0.0       |0        |\n",
      "|[dislike, pop, music, #rubbish]      |0.0       |0        |\n",
      "|[dislike, pop, music, #thumbs-down]  |0.0       |0        |\n",
      "|[dislike, rock, music, #worstever]   |0.0       |0        |\n",
      "|[dislike, skiing, #fail]             |0.0       |0        |\n",
      "|[dislike, summer, #fail]             |0.0       |0        |\n",
      "|[dislike, summer, #nightmare]        |0.0       |0        |\n",
      "|[dislike, summer, #thumbs-down]      |0.0       |0        |\n",
      "|[dislike, summer, #worstever]        |0.0       |0        |\n",
      "|[dislike, tea, #fail]                |0.0       |0        |\n",
      "|[dislike, tea, #hateit]              |0.0       |0        |\n",
      "|[dislike, tea, #rubbish]             |0.0       |0        |\n",
      "|[dislike, holidays, #hateit]         |0.0       |0        |\n",
      "|[dislike, holidays, #worstever]      |0.0       |0        |\n",
      "|[dislike, band, #nightmare]          |0.0       |0        |\n",
      "|[dislike, book, #worstever]          |0.0       |0        |\n",
      "+-------------------------------------+----------+---------+\n",
      "only showing top 50 rows\n",
      "\n"
     ]
    }
   ],
   "source": [
    "prediksimentah = model.transform(numericTest)\n",
    "prediksifinal = prediksimentah.select('MeaningfulWords','prediction','trueLabel')\n",
    "\n",
    "prediksifinal.show(truncate=False, n=50)"
   ]
  },
  {
   "cell_type": "code",
   "execution_count": null,
   "metadata": {
    "colab": {
     "base_uri": "https://localhost:8080/"
    },
    "id": "3BiPBJ4-XO_b",
    "outputId": "f3e86836-743b-4a4b-d683-71357005363f"
   },
   "outputs": [
    {
     "name": "stdout",
     "output_type": "stream",
     "text": [
      "Prediksi benar:  552 , Total Data:  560 , Akurasi:  0.9857142857142858\n"
     ]
    }
   ],
   "source": [
    "prediksibenar = prediksifinal.filter(prediksifinal['prediction'] == prediksifinal['trueLabel']).count()\n",
    "totaldata = prediksifinal.count()\n",
    "\n",
    "print('Prediksi benar: ',prediksibenar,', Total Data: ',totaldata,', Akurasi: ',prediksibenar/totaldata)"
   ]
  }
 ],
 "metadata": {
  "colab": {
   "provenance": []
  },
  "kernelspec": {
   "display_name": "Python [conda env:base] *",
   "language": "python",
   "name": "conda-base-py"
  },
  "language_info": {
   "codemirror_mode": {
    "name": "ipython",
    "version": 3
   },
   "file_extension": ".py",
   "mimetype": "text/x-python",
   "name": "python",
   "nbconvert_exporter": "python",
   "pygments_lexer": "ipython3",
   "version": "3.12.7"
  }
 },
 "nbformat": 4,
 "nbformat_minor": 4
}
